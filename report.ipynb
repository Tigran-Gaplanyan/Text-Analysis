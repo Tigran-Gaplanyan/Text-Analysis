{
 "cells": [
  {
   "cell_type": "code",
   "execution_count": 1,
   "id": "5c8b7ca7",
   "metadata": {
    "tags": []
   },
   "outputs": [],
   "source": [
    "import pandas as pd\n",
    "import json\n",
    "import spacy\n",
    "import nltk\n",
    "from nltk.tokenize import word_tokenize\n",
    "from nltk.stem import WordNetLemmatizer, PorterStemmer\n",
    "from collections import Counter\n",
    "import numpy as np\n",
    "from sklearn.linear_model import LinearRegression\n",
    "from sklearn.feature_extraction.text import TfidfVectorizer\n",
    "from sklearn.preprocessing import normalize\n",
    "from sklearn.metrics.pairwise import cosine_similarity, linear_kernel\n",
    "import matplotlib.pyplot as plt\n",
    "import warnings\n",
    "warnings.filterwarnings(\"ignore\")"
   ]
  },
  {
   "cell_type": "markdown",
   "id": "b45a0574",
   "metadata": {},
   "source": [
    "# Problem 1: Data Preparation"
   ]
  },
  {
   "cell_type": "code",
   "execution_count": 3,
   "id": "947d38a3-a744-4417-8f96-eec847ef469a",
   "metadata": {
    "tags": []
   },
   "outputs": [],
   "source": [
    "# !pip install apache_beam mwparserfromhell"
   ]
  },
  {
   "cell_type": "markdown",
   "id": "2d06aa7e",
   "metadata": {},
   "source": [
    "### 1. Download the Wikipedia text data from Hugging Face, using the 20220301.simple dataset. Extract the first 20,000 articles from the data, store them in a pandas dataframe. Write a function to extract the Hugging Face data into a pandas dataframe."
   ]
  },
  {
   "cell_type": "code",
   "execution_count": 2,
   "id": "31e3bd1d",
   "metadata": {
    "tags": []
   },
   "outputs": [],
   "source": [
    "# from datasets import load_dataset\n",
    "# simple = load_dataset(\"wikipedia\", \"20220301.simple\")"
   ]
  },
  {
   "cell_type": "code",
   "execution_count": 3,
   "id": "56cae0f4",
   "metadata": {
    "tags": []
   },
   "outputs": [
    {
     "name": "stderr",
     "output_type": "stream",
     "text": [
      "Found cached dataset wikipedia (C:/Users/GIGABYTE/.cache/huggingface/datasets/wikipedia/20220301.simple/2.0.0/aa542ed919df55cc5d3347f42dd4521d05ca68751f50dbc32bae2a7f1e167559)\n"
     ]
    },
    {
     "data": {
      "application/vnd.jupyter.widget-view+json": {
       "model_id": "86153500819c496c86d7417eb1b35c6b",
       "version_major": 2,
       "version_minor": 0
      },
      "text/plain": [
       "  0%|          | 0/1 [00:00<?, ?it/s]"
      ]
     },
     "metadata": {},
     "output_type": "display_data"
    },
    {
     "name": "stdout",
     "output_type": "stream",
     "text": [
      "(20000, 2)\n"
     ]
    },
    {
     "data": {
      "text/html": [
       "<div>\n",
       "<style scoped>\n",
       "    .dataframe tbody tr th:only-of-type {\n",
       "        vertical-align: middle;\n",
       "    }\n",
       "\n",
       "    .dataframe tbody tr th {\n",
       "        vertical-align: top;\n",
       "    }\n",
       "\n",
       "    .dataframe thead th {\n",
       "        text-align: right;\n",
       "    }\n",
       "</style>\n",
       "<table border=\"1\" class=\"dataframe\">\n",
       "  <thead>\n",
       "    <tr style=\"text-align: right;\">\n",
       "      <th></th>\n",
       "      <th>text</th>\n",
       "      <th>title</th>\n",
       "    </tr>\n",
       "  </thead>\n",
       "  <tbody>\n",
       "    <tr>\n",
       "      <th>0</th>\n",
       "      <td>April is the fourth month of the year in the J...</td>\n",
       "      <td>April</td>\n",
       "    </tr>\n",
       "    <tr>\n",
       "      <th>1</th>\n",
       "      <td>August (Aug.) is the eighth month of the year ...</td>\n",
       "      <td>August</td>\n",
       "    </tr>\n",
       "    <tr>\n",
       "      <th>2</th>\n",
       "      <td>Art is a creative activity that expresses imag...</td>\n",
       "      <td>Art</td>\n",
       "    </tr>\n",
       "    <tr>\n",
       "      <th>3</th>\n",
       "      <td>A or a is the first letter of the English alph...</td>\n",
       "      <td>A</td>\n",
       "    </tr>\n",
       "    <tr>\n",
       "      <th>4</th>\n",
       "      <td>Air refers to the Earth's atmosphere. Air is a...</td>\n",
       "      <td>Air</td>\n",
       "    </tr>\n",
       "  </tbody>\n",
       "</table>\n",
       "</div>"
      ],
      "text/plain": [
       "                                                text   title\n",
       "0  April is the fourth month of the year in the J...   April\n",
       "1  August (Aug.) is the eighth month of the year ...  August\n",
       "2  Art is a creative activity that expresses imag...     Art\n",
       "3  A or a is the first letter of the English alph...       A\n",
       "4  Air refers to the Earth's atmosphere. Air is a...     Air"
      ]
     },
     "execution_count": 3,
     "metadata": {},
     "output_type": "execute_result"
    }
   ],
   "source": [
    "from data.loading import load_dataset, load_wikipedia_data\n",
    "df = load_wikipedia_data(\"wikipedia\", \"20220301.simple\", None)\n",
    "print(df.shape)\n",
    "df.head()"
   ]
  },
  {
   "cell_type": "markdown",
   "id": "78c38b89-2677-45d2-8638-2838094bf358",
   "metadata": {},
   "source": [
    "### Difference between Hard and Soft Lemmatization"
   ]
  },
  {
   "cell_type": "code",
   "execution_count": 4,
   "id": "b7c5bf2f-9a6c-450d-9bf9-fc1a85f2109c",
   "metadata": {
    "tags": []
   },
   "outputs": [
    {
     "name": "stdout",
     "output_type": "stream",
     "text": [
      "Original: April is the fourth month of the year in the Julian and Gregorian calendars, and comes between March\n",
      "Hard normalized: ['april', 'be', 'the', 'fourth', 'month', 'of', 'the', 'year', 'in', 'the', 'julian', 'and', 'gregorian', 'calendar', ',', 'and', 'come', 'between', 'march']\n",
      "Soft Normalizedl: ['april', 'is', 'the', 'fourth', 'month', 'of', 'the', 'year', 'in', 'the', 'julian', 'and', 'gregorian', 'calendar', ',', 'and', 'come', 'between', 'march']\n"
     ]
    }
   ],
   "source": [
    "from data.processing import Processor, DatasetProcessor\n",
    "\n",
    "hard = Processor(hard_lemmatize=True)\n",
    "soft = Processor(hard_lemmatize=False)\n",
    "n_chars = 100\n",
    "sample = df.loc[0, 'text'][:n_chars]\n",
    "\n",
    "h = hard.process(sample)\n",
    "s = soft.process(sample)\n",
    "\n",
    "print(f'Original: {sample}')\n",
    "print(f'Hard normalized: {h}')\n",
    "print(f'Soft Normalizedl: {s}')"
   ]
  },
  {
   "cell_type": "markdown",
   "id": "b5b21582-764e-4cb0-813c-18987312dde8",
   "metadata": {},
   "source": [
    "***Notice that am/is/are converted into be (their default verbal form with Hard_Lemmatized)***"
   ]
  },
  {
   "cell_type": "code",
   "execution_count": 5,
   "id": "3ac9eff1-fde6-4fdb-b99f-30153450a31f",
   "metadata": {
    "tags": []
   },
   "outputs": [
    {
     "name": "stdout",
     "output_type": "stream",
     "text": [
      "Finished Building DatasetProcessor\n"
     ]
    },
    {
     "data": {
      "text/html": [
       "<div>\n",
       "<style scoped>\n",
       "    .dataframe tbody tr th:only-of-type {\n",
       "        vertical-align: middle;\n",
       "    }\n",
       "\n",
       "    .dataframe tbody tr th {\n",
       "        vertical-align: top;\n",
       "    }\n",
       "\n",
       "    .dataframe thead th {\n",
       "        text-align: right;\n",
       "    }\n",
       "</style>\n",
       "<table border=\"1\" class=\"dataframe\">\n",
       "  <thead>\n",
       "    <tr style=\"text-align: right;\">\n",
       "      <th></th>\n",
       "      <th>text</th>\n",
       "      <th>title</th>\n",
       "      <th>lowerised</th>\n",
       "      <th>tokenized</th>\n",
       "      <th>lemmatized</th>\n",
       "      <th>stemmed</th>\n",
       "    </tr>\n",
       "  </thead>\n",
       "  <tbody>\n",
       "    <tr>\n",
       "      <th>0</th>\n",
       "      <td>April is the fourth month of the year in the J...</td>\n",
       "      <td>April</td>\n",
       "      <td>[april, is, the, fourth, month, of, the, year,...</td>\n",
       "      <td>[April, is, the, fourth, month, of, the, year,...</td>\n",
       "      <td>[April, is, the, fourth, month, of, the, year,...</td>\n",
       "      <td>[april, is, the, fourth, month, of, the, year,...</td>\n",
       "    </tr>\n",
       "    <tr>\n",
       "      <th>1</th>\n",
       "      <td>August (Aug.) is the eighth month of the year ...</td>\n",
       "      <td>August</td>\n",
       "      <td>[august, (, aug., ), is, the, eighth, month, o...</td>\n",
       "      <td>[August, (, Aug., ), is, the, eighth, month, o...</td>\n",
       "      <td>[August, (, Aug., ), is, the, eighth, month, o...</td>\n",
       "      <td>[august, (, aug., ), is, the, eighth, month, o...</td>\n",
       "    </tr>\n",
       "    <tr>\n",
       "      <th>2</th>\n",
       "      <td>Art is a creative activity that expresses imag...</td>\n",
       "      <td>Art</td>\n",
       "      <td>[art, is, a, creativ, activ, that, express, im...</td>\n",
       "      <td>[Art, is, a, creative, activity, that, express...</td>\n",
       "      <td>[Art, is, a, creative, activity, that, express...</td>\n",
       "      <td>[art, is, a, creativ, activ, that, express, im...</td>\n",
       "    </tr>\n",
       "    <tr>\n",
       "      <th>3</th>\n",
       "      <td>A or a is the first letter of the English alph...</td>\n",
       "      <td>A</td>\n",
       "      <td>[a, or, a, is, the, first, letter, of, the, en...</td>\n",
       "      <td>[A, or, a, is, the, first, letter, of, the, En...</td>\n",
       "      <td>[A, or, a, is, the, first, letter, of, the, En...</td>\n",
       "      <td>[a, or, a, is, the, first, letter, of, the, en...</td>\n",
       "    </tr>\n",
       "    <tr>\n",
       "      <th>4</th>\n",
       "      <td>Air refers to the Earth's atmosphere. Air is a...</td>\n",
       "      <td>Air</td>\n",
       "      <td>[air, refer, to, the, earth, 's, atmospher, .,...</td>\n",
       "      <td>[Air, refers, to, the, Earth, 's, atmosphere, ...</td>\n",
       "      <td>[Air, refers, to, the, Earth, 's, atmosphere, ...</td>\n",
       "      <td>[air, refer, to, the, earth, 's, atmospher, .,...</td>\n",
       "    </tr>\n",
       "  </tbody>\n",
       "</table>\n",
       "</div>"
      ],
      "text/plain": [
       "                                                text   title  \\\n",
       "0  April is the fourth month of the year in the J...   April   \n",
       "1  August (Aug.) is the eighth month of the year ...  August   \n",
       "2  Art is a creative activity that expresses imag...     Art   \n",
       "3  A or a is the first letter of the English alph...       A   \n",
       "4  Air refers to the Earth's atmosphere. Air is a...     Air   \n",
       "\n",
       "                                           lowerised  \\\n",
       "0  [april, is, the, fourth, month, of, the, year,...   \n",
       "1  [august, (, aug., ), is, the, eighth, month, o...   \n",
       "2  [art, is, a, creativ, activ, that, express, im...   \n",
       "3  [a, or, a, is, the, first, letter, of, the, en...   \n",
       "4  [air, refer, to, the, earth, 's, atmospher, .,...   \n",
       "\n",
       "                                           tokenized  \\\n",
       "0  [April, is, the, fourth, month, of, the, year,...   \n",
       "1  [August, (, Aug., ), is, the, eighth, month, o...   \n",
       "2  [Art, is, a, creative, activity, that, express...   \n",
       "3  [A, or, a, is, the, first, letter, of, the, En...   \n",
       "4  [Air, refers, to, the, Earth, 's, atmosphere, ...   \n",
       "\n",
       "                                          lemmatized  \\\n",
       "0  [April, is, the, fourth, month, of, the, year,...   \n",
       "1  [August, (, Aug., ), is, the, eighth, month, o...   \n",
       "2  [Art, is, a, creative, activity, that, express...   \n",
       "3  [A, or, a, is, the, first, letter, of, the, En...   \n",
       "4  [Air, refers, to, the, Earth, 's, atmosphere, ...   \n",
       "\n",
       "                                             stemmed  \n",
       "0  [april, is, the, fourth, month, of, the, year,...  \n",
       "1  [august, (, aug., ), is, the, eighth, month, o...  \n",
       "2  [art, is, a, creativ, activ, that, express, im...  \n",
       "3  [a, or, a, is, the, first, letter, of, the, en...  \n",
       "4  [air, refer, to, the, earth, 's, atmospher, .,...  "
      ]
     },
     "execution_count": 5,
     "metadata": {},
     "output_type": "execute_result"
    }
   ],
   "source": [
    "dp = DatasetProcessor(df = df.head().copy(), processor_kwargs={'hard_lemmatize':False}, step_by_step= True)\n",
    "dp()\n",
    "dp.df"
   ]
  },
  {
   "cell_type": "code",
   "execution_count": 6,
   "id": "079e5736-b591-4681-9c0d-ab3b6499a3a6",
   "metadata": {
    "tags": []
   },
   "outputs": [
    {
     "name": "stdout",
     "output_type": "stream",
     "text": [
      "Finished Building DatasetProcessor\n",
      "Time Taken: 4.826minutes\n"
     ]
    },
    {
     "data": {
      "text/html": [
       "<div>\n",
       "<style scoped>\n",
       "    .dataframe tbody tr th:only-of-type {\n",
       "        vertical-align: middle;\n",
       "    }\n",
       "\n",
       "    .dataframe tbody tr th {\n",
       "        vertical-align: top;\n",
       "    }\n",
       "\n",
       "    .dataframe thead th {\n",
       "        text-align: right;\n",
       "    }\n",
       "</style>\n",
       "<table border=\"1\" class=\"dataframe\">\n",
       "  <thead>\n",
       "    <tr style=\"text-align: right;\">\n",
       "      <th></th>\n",
       "      <th>text</th>\n",
       "      <th>title</th>\n",
       "      <th>lowerised</th>\n",
       "    </tr>\n",
       "  </thead>\n",
       "  <tbody>\n",
       "    <tr>\n",
       "      <th>0</th>\n",
       "      <td>April is the fourth month of the year in the J...</td>\n",
       "      <td>April</td>\n",
       "      <td>[april, is, the, fourth, month, of, the, year,...</td>\n",
       "    </tr>\n",
       "    <tr>\n",
       "      <th>1</th>\n",
       "      <td>August (Aug.) is the eighth month of the year ...</td>\n",
       "      <td>August</td>\n",
       "      <td>[august, (, aug., ), is, the, eighth, month, o...</td>\n",
       "    </tr>\n",
       "    <tr>\n",
       "      <th>2</th>\n",
       "      <td>Art is a creative activity that expresses imag...</td>\n",
       "      <td>Art</td>\n",
       "      <td>[art, is, a, creativ, activ, that, express, im...</td>\n",
       "    </tr>\n",
       "    <tr>\n",
       "      <th>3</th>\n",
       "      <td>A or a is the first letter of the English alph...</td>\n",
       "      <td>A</td>\n",
       "      <td>[a, or, a, is, the, first, letter, of, the, en...</td>\n",
       "    </tr>\n",
       "    <tr>\n",
       "      <th>4</th>\n",
       "      <td>Air refers to the Earth's atmosphere. Air is a...</td>\n",
       "      <td>Air</td>\n",
       "      <td>[air, refer, to, the, earth, 's, atmospher, .,...</td>\n",
       "    </tr>\n",
       "    <tr>\n",
       "      <th>...</th>\n",
       "      <td>...</td>\n",
       "      <td>...</td>\n",
       "      <td>...</td>\n",
       "    </tr>\n",
       "    <tr>\n",
       "      <th>19995</th>\n",
       "      <td>Maurice Robert \"Mike\" Gravel (May 13, 1930 – J...</td>\n",
       "      <td>Mike Gravel</td>\n",
       "      <td>[mauric, robert, ``, mike, '', gravel, (, may,...</td>\n",
       "    </tr>\n",
       "    <tr>\n",
       "      <th>19996</th>\n",
       "      <td>Iva Zanicchi (born 18 January 1940) is an Ital...</td>\n",
       "      <td>Iva Zanicchi</td>\n",
       "      <td>[iva, zanicchi, (, born, 18, januari, 1940, ),...</td>\n",
       "    </tr>\n",
       "    <tr>\n",
       "      <th>19997</th>\n",
       "      <td>The North German Confederation (), was first a...</td>\n",
       "      <td>North German Confederation</td>\n",
       "      <td>[the, north, german, confeder, (, ), ,, wa, fi...</td>\n",
       "    </tr>\n",
       "    <tr>\n",
       "      <th>19998</th>\n",
       "      <td>MiG Alley was a place during the Korean War th...</td>\n",
       "      <td>MiG Alley</td>\n",
       "      <td>[mig, alley, wa, a, place, dure, the, korean, ...</td>\n",
       "    </tr>\n",
       "    <tr>\n",
       "      <th>19999</th>\n",
       "      <td>Veritas' NetBackup is a data backup software f...</td>\n",
       "      <td>NetBackup</td>\n",
       "      <td>[verita, ', netbackup, is, a, data, backup, so...</td>\n",
       "    </tr>\n",
       "  </tbody>\n",
       "</table>\n",
       "<p>20000 rows × 3 columns</p>\n",
       "</div>"
      ],
      "text/plain": [
       "                                                    text  \\\n",
       "0      April is the fourth month of the year in the J...   \n",
       "1      August (Aug.) is the eighth month of the year ...   \n",
       "2      Art is a creative activity that expresses imag...   \n",
       "3      A or a is the first letter of the English alph...   \n",
       "4      Air refers to the Earth's atmosphere. Air is a...   \n",
       "...                                                  ...   \n",
       "19995  Maurice Robert \"Mike\" Gravel (May 13, 1930 – J...   \n",
       "19996  Iva Zanicchi (born 18 January 1940) is an Ital...   \n",
       "19997  The North German Confederation (), was first a...   \n",
       "19998  MiG Alley was a place during the Korean War th...   \n",
       "19999  Veritas' NetBackup is a data backup software f...   \n",
       "\n",
       "                            title  \\\n",
       "0                           April   \n",
       "1                          August   \n",
       "2                             Art   \n",
       "3                               A   \n",
       "4                             Air   \n",
       "...                           ...   \n",
       "19995                 Mike Gravel   \n",
       "19996                Iva Zanicchi   \n",
       "19997  North German Confederation   \n",
       "19998                   MiG Alley   \n",
       "19999                   NetBackup   \n",
       "\n",
       "                                               lowerised  \n",
       "0      [april, is, the, fourth, month, of, the, year,...  \n",
       "1      [august, (, aug., ), is, the, eighth, month, o...  \n",
       "2      [art, is, a, creativ, activ, that, express, im...  \n",
       "3      [a, or, a, is, the, first, letter, of, the, en...  \n",
       "4      [air, refer, to, the, earth, 's, atmospher, .,...  \n",
       "...                                                  ...  \n",
       "19995  [mauric, robert, ``, mike, '', gravel, (, may,...  \n",
       "19996  [iva, zanicchi, (, born, 18, januari, 1940, ),...  \n",
       "19997  [the, north, german, confeder, (, ), ,, wa, fi...  \n",
       "19998  [mig, alley, wa, a, place, dure, the, korean, ...  \n",
       "19999  [verita, ', netbackup, is, a, data, backup, so...  \n",
       "\n",
       "[20000 rows x 3 columns]"
      ]
     },
     "execution_count": 6,
     "metadata": {},
     "output_type": "execute_result"
    }
   ],
   "source": [
    "import time\n",
    "\n",
    "start = time.perf_counter()\n",
    "dp = DatasetProcessor(df = df, processor_kwargs={'hard_lemmatize':False}, step_by_step= False)\n",
    "dp()\n",
    "end = time.perf_counter()\n",
    "print(f'Time Taken: {round((end-start)/60, 3)}minutes')\n",
    "dp.df"
   ]
  },
  {
   "cell_type": "code",
   "execution_count": 7,
   "id": "fa56a42d-d02b-4475-a158-66e5f64d5824",
   "metadata": {
    "tags": []
   },
   "outputs": [],
   "source": [
    "dp.df.to_csv('data/normalized_wiki_20k.csv', index=False)"
   ]
  },
  {
   "cell_type": "markdown",
   "id": "a4f09acc",
   "metadata": {},
   "source": [
    "# Problem 2: Word Frequencies and Zipf's Law"
   ]
  },
  {
   "cell_type": "markdown",
   "id": "2fe4564e",
   "metadata": {},
   "source": [
    "### 1. Calculate the frequency of each word in the dataset. Plot the word frequencies against their rank in a log-log scale.\n",
    "### 2. Fit a line (using any line fitting approach) to the plot that represents Zipf's Law and analyze the results."
   ]
  },
  {
   "cell_type": "code",
   "execution_count": 8,
   "id": "1fadf27d-62f1-4ed0-8610-8946bcfcd30e",
   "metadata": {
    "tags": []
   },
   "outputs": [
    {
     "data": {
      "text/html": [
       "<div>\n",
       "<style scoped>\n",
       "    .dataframe tbody tr th:only-of-type {\n",
       "        vertical-align: middle;\n",
       "    }\n",
       "\n",
       "    .dataframe tbody tr th {\n",
       "        vertical-align: top;\n",
       "    }\n",
       "\n",
       "    .dataframe thead th {\n",
       "        text-align: right;\n",
       "    }\n",
       "</style>\n",
       "<table border=\"1\" class=\"dataframe\">\n",
       "  <thead>\n",
       "    <tr style=\"text-align: right;\">\n",
       "      <th></th>\n",
       "      <th>text</th>\n",
       "      <th>title</th>\n",
       "      <th>lowerised</th>\n",
       "    </tr>\n",
       "  </thead>\n",
       "  <tbody>\n",
       "    <tr>\n",
       "      <th>0</th>\n",
       "      <td>April is the fourth month of the year in the J...</td>\n",
       "      <td>April</td>\n",
       "      <td>['april', 'is', 'the', 'fourth', 'month', 'of'...</td>\n",
       "    </tr>\n",
       "    <tr>\n",
       "      <th>1</th>\n",
       "      <td>August (Aug.) is the eighth month of the year ...</td>\n",
       "      <td>August</td>\n",
       "      <td>['august', '(', 'aug.', ')', 'is', 'the', 'eig...</td>\n",
       "    </tr>\n",
       "    <tr>\n",
       "      <th>2</th>\n",
       "      <td>Art is a creative activity that expresses imag...</td>\n",
       "      <td>Art</td>\n",
       "      <td>['art', 'is', 'a', 'creativ', 'activ', 'that',...</td>\n",
       "    </tr>\n",
       "  </tbody>\n",
       "</table>\n",
       "</div>"
      ],
      "text/plain": [
       "                                                text   title  \\\n",
       "0  April is the fourth month of the year in the J...   April   \n",
       "1  August (Aug.) is the eighth month of the year ...  August   \n",
       "2  Art is a creative activity that expresses imag...     Art   \n",
       "\n",
       "                                           lowerised  \n",
       "0  ['april', 'is', 'the', 'fourth', 'month', 'of'...  \n",
       "1  ['august', '(', 'aug.', ')', 'is', 'the', 'eig...  \n",
       "2  ['art', 'is', 'a', 'creativ', 'activ', 'that',...  "
      ]
     },
     "execution_count": 8,
     "metadata": {},
     "output_type": "execute_result"
    }
   ],
   "source": [
    "df.head(3)"
   ]
  },
  {
   "cell_type": "code",
   "execution_count": 3,
   "id": "b31a8f9d",
   "metadata": {
    "tags": []
   },
   "outputs": [
    {
     "data": {
      "text/plain": [
       "455095"
      ]
     },
     "execution_count": 3,
     "metadata": {},
     "output_type": "execute_result"
    }
   ],
   "source": [
    "import pandas as pd\n",
    "from nltk import Counter\n",
    "\n",
    "# df = dp.df\n",
    "\n",
    "df = pd.read_csv('data/normalized_wiki_20k.csv')\n",
    "df.lowerised = df.lowerised.apply(eval)\n",
    "word_freq = Counter()\n",
    "for normalized in df['lowerised']:\n",
    "    if isinstance(normalized, str):\n",
    "        normalized = eval(normalized)\n",
    "    word_freq.update(normalized)\n",
    "word_freq['the']"
   ]
  },
  {
   "cell_type": "code",
   "execution_count": 20,
   "id": "5b289193",
   "metadata": {
    "tags": []
   },
   "outputs": [
    {
     "data": {
      "text/plain": [
       "{',': 459276,\n",
       " 'the': 455095,\n",
       " '.': 424225,\n",
       " 'of': 243179,\n",
       " 'a': 190983,\n",
       " 'and': 186761,\n",
       " 'in': 176412,\n",
       " ')': 156889,\n",
       " '(': 156881,\n",
       " 'to': 122659}"
      ]
     },
     "execution_count": 20,
     "metadata": {},
     "output_type": "execute_result"
    }
   ],
   "source": [
    "# Sort the words by frequency in descending order\n",
    "sorted_words = sorted(word_freq.items(), key=lambda x: x[1], reverse=True)\n",
    "{i:j for c, (i,j) in enumerate(sorted_words) if c < 10}"
   ]
  },
  {
   "cell_type": "code",
   "execution_count": 21,
   "id": "b259d0d6-e910-4c8c-9371-b0a48bcf03df",
   "metadata": {
    "tags": []
   },
   "outputs": [
    {
     "data": {
      "image/png": "[encoded data removed]",
      "text/plain": [
       "<Figure size 432x288 with 1 Axes>"
      ]
     },
     "metadata": {
      "needs_background": "light"
     },
     "output_type": "display_data"
    }
   ],
   "source": [
    "from utils import plot_rank_freqs\n",
    "\n",
    "plot_rank_freqs(sorted_words)"
   ]
  },
  {
   "cell_type": "markdown",
   "id": "91ca4845",
   "metadata": {},
   "source": [
    "The graph shows that Zipf's law is true in practice."
   ]
  },
  {
   "cell_type": "markdown",
   "id": "efd05ff5",
   "metadata": {},
   "source": [
    "# Problem 3: TF-IDF and Document Representation"
   ]
  },
  {
   "cell_type": "markdown",
   "id": "a1b29000",
   "metadata": {},
   "source": [
    "### 1. Calculate the term frequency (TF) and inverse document frequency (IDF) for each word in the dataset."
   ]
  },
  {
   "cell_type": "code",
   "execution_count": 26,
   "id": "cf7cf46a-a9bf-4a1c-8cbf-e67cd9dd92ea",
   "metadata": {
    "tags": []
   },
   "outputs": [
    {
     "name": "stdout",
     "output_type": "stream",
     "text": [
      "Term - april's tf_score: 208\n",
      "Term - april's tf_score (log-scale): 3.3180633349627615\n"
     ]
    },
    {
     "name": "stderr",
     "output_type": "stream",
     "text": [
      "100%|████████████████████████████████████████████████████████████████████████| 20000/20000 [00:00<00:00, 33613.55it/s]\n"
     ]
    },
    {
     "name": "stdout",
     "output_type": "stream",
     "text": [
      "Term - april's idf_score (raw): 1498\n",
      "Term - april's idf_score (log-scale): 1.1255181823005336\n"
     ]
    }
   ],
   "source": [
    "from utils import calc_tf_idf\n",
    "tf_dict, idf_dict, tfidf_dict = calc_tf_idf(df.lowerised, word_freq)"
   ]
  },
  {
   "cell_type": "code",
   "execution_count": 27,
   "id": "adf9799b-2945-4ef2-ad97-5c152b33530b",
   "metadata": {
    "tags": []
   },
   "outputs": [
    {
     "data": {
      "text/plain": [
       "(3.3180633349627615, 1.1255181823005336)"
      ]
     },
     "execution_count": 27,
     "metadata": {},
     "output_type": "execute_result"
    }
   ],
   "source": [
    "tf_dict[0]['april'], idf_dict['april']"
   ]
  },
  {
   "cell_type": "code",
   "execution_count": 4,
   "id": "9f2bbffa",
   "metadata": {
    "tags": []
   },
   "outputs": [],
   "source": [
    "from sklearn.feature_extraction.text import TfidfVectorizer\n",
    "\n",
    "df['normalized'] = df.lowerised.copy()\n",
    "for i in df.index:\n",
    "    df.loc[i, 'normalized'] = ' '.join(map(str, df[\"normalized\"][i]))\n",
    "    \n",
    "tfidf_vectorizer = TfidfVectorizer(use_idf=True)\n",
    "tfidf_matrix = tfidf_vectorizer.fit_transform(df['normalized'])"
   ]
  },
  {
   "cell_type": "code",
   "execution_count": 5,
   "id": "7ec5f749",
   "metadata": {
    "tags": []
   },
   "outputs": [],
   "source": [
    "tf = np.float16(tfidf_matrix.toarray())"
   ]
  },
  {
   "cell_type": "code",
   "execution_count": 6,
   "id": "f5576332",
   "metadata": {
    "tags": []
   },
   "outputs": [],
   "source": [
    "idf = np.float16(tfidf_vectorizer.idf_)"
   ]
  },
  {
   "cell_type": "code",
   "execution_count": 7,
   "id": "1f7f4ca1",
   "metadata": {
    "tags": []
   },
   "outputs": [
    {
     "data": {
      "text/plain": [
       "((162132,), dtype('float16'))"
      ]
     },
     "execution_count": 7,
     "metadata": {},
     "output_type": "execute_result"
    }
   ],
   "source": [
    "idf.shape, idf.dtype"
   ]
  },
  {
   "cell_type": "code",
   "execution_count": 8,
   "id": "9e282cab",
   "metadata": {
    "tags": []
   },
   "outputs": [
    {
     "data": {
      "text/plain": [
       "((20000, 162132), dtype('float16'))"
      ]
     },
     "execution_count": 8,
     "metadata": {},
     "output_type": "execute_result"
    }
   ],
   "source": [
    "tf.shape, tf.dtype"
   ]
  },
  {
   "cell_type": "code",
   "execution_count": 9,
   "id": "93195bdb",
   "metadata": {
    "tags": []
   },
   "outputs": [],
   "source": [
    "tf_idf = tf * idf.reshape(1, -1)"
   ]
  },
  {
   "cell_type": "code",
   "execution_count": 10,
   "id": "5ad9778a",
   "metadata": {
    "tags": []
   },
   "outputs": [
    {
     "name": "stdout",
     "output_type": "stream",
     "text": [
      "(162132, 20000)\n"
     ]
    },
    {
     "data": {
      "text/plain": [
       "array([[0.     , 0.     , 0.     , ..., 0.     , 0.     , 0.     ],\n",
       "       [0.01078, 0.     , 0.     , ..., 0.     , 0.     , 0.     ],\n",
       "       [0.     , 0.     , 0.     , ..., 0.     , 0.     , 0.     ],\n",
       "       ...,\n",
       "       [0.     , 0.     , 0.     , ..., 0.     , 0.     , 0.     ],\n",
       "       [0.     , 0.     , 0.     , ..., 0.     , 0.     , 0.     ],\n",
       "       [0.     , 0.     , 0.     , ..., 0.     , 0.     , 0.     ]],\n",
       "      dtype=float16)"
      ]
     },
     "execution_count": 10,
     "metadata": {},
     "output_type": "execute_result"
    }
   ],
   "source": [
    "tf_idf = tf_idf.T   # we need documents (20k) to be columns\n",
    "print(tf_idf.shape)\n",
    "tf_idf"
   ]
  },
  {
   "cell_type": "code",
   "execution_count": 11,
   "id": "b1c436c9",
   "metadata": {
    "tags": []
   },
   "outputs": [
    {
     "data": {
      "text/plain": [
       "0        april is the fourth month of the year in the j...\n",
       "1        august ( aug. ) is the eighth month of the yea...\n",
       "2        art is a creativ activ that express imagin or ...\n",
       "3        a or a is the first letter of the english alph...\n",
       "4        air refer to the earth 's atmospher . air is a...\n",
       "                               ...                        \n",
       "19995    mauric robert `` mike '' gravel ( may 13 , 193...\n",
       "19996    iva zanicchi ( born 18 januari 1940 ) is an it...\n",
       "19997    the north german confeder ( ) , wa first a mil...\n",
       "19998    mig alley wa a place dure the korean war that ...\n",
       "19999    verita ' netbackup is a data backup softwar fo...\n",
       "Name: normalized, Length: 20000, dtype: object"
      ]
     },
     "execution_count": 11,
     "metadata": {},
     "output_type": "execute_result"
    }
   ],
   "source": [
    "df[\"normalized\"]"
   ]
  },
  {
   "cell_type": "markdown",
   "id": "fab7b8b3",
   "metadata": {},
   "source": [
    "### After calculating the TF-IDF for each document, normalize the document TF-IDF vector. Store the normalized TF-IDF vectors for further use."
   ]
  },
  {
   "cell_type": "code",
   "execution_count": 12,
   "id": "11d9fc67",
   "metadata": {
    "tags": []
   },
   "outputs": [],
   "source": [
    "from utils import normalize_tfidf\n",
    "\n",
    "tf_idf_norm = normalize_tfidf(tf_idf)"
   ]
  },
  {
   "cell_type": "code",
   "execution_count": 13,
   "id": "a3a6bd15",
   "metadata": {
    "tags": []
   },
   "outputs": [
    {
     "data": {
      "text/plain": [
       "(dtype('float16'), (162132, 20000))"
      ]
     },
     "execution_count": 13,
     "metadata": {},
     "output_type": "execute_result"
    }
   ],
   "source": [
    "tf_idf_norm.dtype, tf_idf_norm.shape"
   ]
  },
  {
   "cell_type": "markdown",
   "id": "6b5fff57",
   "metadata": {},
   "source": [
    "### Write a function for normalizing the TF-IDF vectors that can be used for both documents and queries."
   ]
  },
  {
   "cell_type": "code",
   "execution_count": 17,
   "id": "832fd9f3-b552-4b7e-a91f-75dfbc89ee82",
   "metadata": {
    "tags": []
   },
   "outputs": [],
   "source": [
    "tf_idf_norm = tf_idf_norm.T  # reshape for easier search implementation"
   ]
  },
  {
   "cell_type": "markdown",
   "id": "a751de2f",
   "metadata": {},
   "source": [
    "# Problem 4: Document Search"
   ]
  },
  {
   "cell_type": "markdown",
   "id": "f809b523",
   "metadata": {},
   "source": [
    "### 1) Write a function that takes a query as input and performs normalization on the query as you did for the original data. Calculate the TF-IDF representation of the query and normalize it using the function created in Problem 3."
   ]
  },
  {
   "cell_type": "code",
   "execution_count": 18,
   "id": "43907d9c",
   "metadata": {
    "tags": []
   },
   "outputs": [],
   "source": [
    "from utils import process_query"
   ]
  },
  {
   "cell_type": "markdown",
   "id": "eba8814d",
   "metadata": {},
   "source": [
    "### 2) Implement a search function that returns the top-k most relevant documents for the given query using cosine similarity or another similarity measure. Use the precomputed normalized TF-IDF vectors for the documents to calculate the similarities. "
   ]
  },
  {
   "cell_type": "code",
   "execution_count": 19,
   "id": "b9517932",
   "metadata": {
    "tags": []
   },
   "outputs": [],
   "source": [
    "from utils import search"
   ]
  },
  {
   "cell_type": "markdown",
   "id": "06740561",
   "metadata": {},
   "source": [
    "# Problem 5: Evaluation and Reporting"
   ]
  },
  {
   "cell_type": "markdown",
   "id": "e5b7a30f",
   "metadata": {},
   "source": [
    "### Evaluate the performance of your search function using example queries and discuss the results."
   ]
  },
  {
   "cell_type": "code",
   "execution_count": 21,
   "id": "b9ab9796",
   "metadata": {
    "tags": []
   },
   "outputs": [],
   "source": [
    "# Example queries\n",
    "query1 = \"Machine Learning\"\n",
    "# query2 = \"Quantum mechanics\"\n",
    "# query3 = \"New York City\"\n",
    "# query4 = \"Artificial intelligence\"\n",
    "# query5 = \"Neural networks\"\n",
    "\n",
    "# Top-k results for each query\n",
    "k = 5\n",
    "results1, sim1 = search(query1, k, tf_idf_norm, df)\n",
    "# results2, sim2 = search(query2, k)\n",
    "# results3, sim3 = search(query3, k)\n",
    "# results4, sim4 = search(query4, k)\n",
    "# results5, sim5 = search(query5, k)"
   ]
  },
  {
   "cell_type": "code",
   "execution_count": 22,
   "id": "1ed03282",
   "metadata": {
    "tags": []
   },
   "outputs": [
    {
     "name": "stdout",
     "output_type": "stream",
     "text": [
      "Top-5 results for query 'Machine Learning':\n",
      "['a student is a person who go to school and is learn someth . student can be child , teenag , or adult who are go to school , but it may also be other peopl who are learn , such a in colleg or univers . a younger student is often call a pupil . usual , student will learn from a teacher or a lectur if at univers . they also do much read . a student can also be a person studi for a specif profess . subject student in school learn subject . there are mani subject in school like : math scienc social studi write read languag relat page educ studi learn peopl', 'bbc learn english is a websit host by the bbc world servic sinc 1996 . it provid free learn materi for peopl who speak english a a second languag and want to improv their english languag skill . refer bbc', 'learn music by ear is learn to play a piec of music by listen to other peopl play it and then tri to play it oneself . in some music tradit there is no written music and everybodi play by ear all the time . folk music is tradit learn by listen to other musician and copi them . thi is how music is pass from one gener to anoth . most peopl in the western music tradit learn piec and song by read music , but it is good to tri to play music by ear sometim . it can be a veri use skill . the suzuki method of learn instrument start in japan but is now use in mani countri . it teach young child to play an instrument ( usual the violin ) by ear . music educ music perform techniqu', 'learn english is what peopl do when they want to use the english languag . in languag learn , we often talk about languag skill and languag system . languag skill includ : speak , listen , read , and write . languag system includ vocabulari , grammar , and pronunci . a lot of peopl learn english at school , where english is a common subject . mani peopl also want to spend their own person time to learn english . some of these peopl may not know ani english , where other will have learn some english in school , and will want to advanc their knowledg of it . learn in school english is taught in mani school . it may be a requir cours for graduat , or student may choos to studi it . for profit languag school are also common in mani countri . these busi sell english lesson . individu learn other peopl tri to learn english on their own , or in a le formal set than in a group of peopl with a teacher . peopl might meet with other who are tri to learn english , in order to practic speak . peopl can also listen to radio broadcast in english , or watch televis programm in english to help them improv their listen abil . a popular channel to listen to the radio on is broadcast by the bbc , call the bbc world servic . peopl can also studi english by read book , or listen to english cours on record cd or cassett . onlin learn the internet boom ha creat lot of avenu for learn . peopl can get lot of idea on how to improv english commun skill use search engin like googl , yahoo , etc . especi dure the lockdown due to covid-19 , onlin class and cours becam a main sourc of learn . the bbc world servic ha a free websit for peopl who are learn english a a second or foreign languag call bbc learn english . test relat page english a an addit languag wikipedia : basic english pictur wordlist , 200 word in basic english with pictur other websit bbc english learn center learn english languag', \"a machin is a thing that is creat by peopl to make work easier . it is a tool or invent which multipli the effect of human effort . the machin produc a mechan advantag . some machin have mani part that move . exampl are bicycl and clock . some machin do not have part that move . exampl are comput and telephon . peopl have use machin sinc befor there wa histori . often a machin will chang one form of energi to anoth form of energi . simpl machin increas or chang the direct of a forc . simpl machin there are six 'simpl machin ' . they are : the wedg , the inclin plane ( ramp ) , the screw , the lever , the pulley , and the wheel and axl . compound machin are made up of two or more simpl machin . other websit aplusproject.com - machin design websit with a forum machinedesign.com basic english 850 word engin\"]\n",
      "[0.243  0.2101 0.1986 0.1941 0.1577]\n"
     ]
    }
   ],
   "source": [
    "# Print the results\n",
    "print(\"Top-{} results for query '{}':\".format(k, query1))\n",
    "print(results1)\n",
    "print(sim1)\n",
    "# print(\"Top-{} results for query '{}':\".format(k, query2))\n",
    "# print(results2)\n",
    "# print(sim2)\n",
    "# print(\"Top-{} results for query '{}':\".format(k, query3))\n",
    "# print(results3)\n",
    "# print(sim3)\n",
    "# print(\"Top-{} results for query '{}':\".format(k, query4))\n",
    "# print(results4)\n",
    "# print(sim4)\n",
    "# print(\"Top-{} results for query '{}':\".format(k, query5))\n",
    "# print(results5)\n",
    "# print(sim5)"
   ]
  }
 ],
 "metadata": {
  "kernelspec": {
   "display_name": "Python 3.9.16 ('mlh6')",
   "language": "python",
   "name": "python3"
  },
  "language_info": {
   "codemirror_mode": {
    "name": "ipython",
    "version": 3
   },
   "file_extension": ".py",
   "mimetype": "text/x-python",
   "name": "python",
   "nbconvert_exporter": "python",
   "pygments_lexer": "ipython3",
   "version": "3.9.16"
  },
  "vscode": {
   "interpreter": {
    "hash": "71593103d01b87dd67c47617fa7cb4b180e1e65a92c66a6d62d7f2436d200ece"
   }
  }
 },
 "nbformat": 4,
 "nbformat_minor": 5
}
